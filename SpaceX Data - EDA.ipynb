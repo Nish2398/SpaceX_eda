{
 "cells": [
  {
   "cell_type": "markdown",
   "metadata": {},
   "source": [
    "# SpaceX: Launch Operations, Inventory & Business"
   ]
  },
  {
   "cell_type": "markdown",
   "metadata": {},
   "source": [
    "\n"
   ]
  },
  {
   "cell_type": "markdown",
   "metadata": {},
   "source": [
    "SpaceX - A company credited with launching the first privately developed vehicle into the orbit; is largely responsible for kickstarting the space race yet again. Over the years it has achieved a lot of incredible feats, and in this analysis we'll look to explore SpaceX's operations; garnering insights that give us information on the subtle details behind those achievements and a general idea of the SpaceX programs.\n",
    "\n",
    "\n",
    "The goal of this analysis is to discover facts which would have been missed by mainstream media coverage and to develop an understanding of the company by way of numbers. We would look towards tech blogs, enginnering , and space community posts for our analysis. We might also encounter well-known facts in our analysis which we would look at from a different perspective.\n",
    "\n",
    "\n",
    "The analysis uses data from the following source: https://www.kaggle.com/rohanrao/rspacex-data"
   ]
  },
  {
   "cell_type": "markdown",
   "metadata": {},
   "source": [
    "\n"
   ]
  },
  {
   "cell_type": "markdown",
   "metadata": {},
   "source": [
    "### Setup & Loading"
   ]
  },
  {
   "cell_type": "markdown",
   "metadata": {},
   "source": [
    "####  Setup"
   ]
  },
  {
   "cell_type": "code",
   "execution_count": 1,
   "metadata": {},
   "outputs": [],
   "source": [
    "# Importing Dependancies\n",
    "\n",
    "import pandas as pd\n",
    "import numpy as np\n",
    "import seaborn as sns\n",
    "import matplotlib as plt\n",
    "%matplotlib inline"
   ]
  },
  {
   "cell_type": "markdown",
   "metadata": {},
   "source": [
    "####  Data Loading"
   ]
  },
  {
   "cell_type": "code",
   "execution_count": 2,
   "metadata": {},
   "outputs": [],
   "source": [
    "# Loading in each table as a dataframe\n",
    "\n",
    "launches = pd.read_csv('launches.csv')\n",
    "rockets = pd.read_csv('rockets.csv')\n",
    "launchpads = pd.read_csv('launchpads.csv')\n",
    "payloads = pd.read_csv('payloads.csv')\n",
    "ships = pd.read_csv('ships.csv')\n",
    "cores = pd.read_csv('cores.csv')\n",
    "capsules = pd.read_csv('capsules.csv')"
   ]
  },
  {
   "cell_type": "markdown",
   "metadata": {},
   "source": [
    "#### Data Preview Options"
   ]
  },
  {
   "cell_type": "code",
   "execution_count": 3,
   "metadata": {},
   "outputs": [
    {
     "data": {
      "text/html": [
       "<div>\n",
       "<style scoped>\n",
       "    .dataframe tbody tr th:only-of-type {\n",
       "        vertical-align: middle;\n",
       "    }\n",
       "\n",
       "    .dataframe tbody tr th {\n",
       "        vertical-align: top;\n",
       "    }\n",
       "\n",
       "    .dataframe thead th {\n",
       "        text-align: right;\n",
       "    }\n",
       "</style>\n",
       "<table border=\"1\" class=\"dataframe\">\n",
       "  <thead>\n",
       "    <tr style=\"text-align: right;\">\n",
       "      <th></th>\n",
       "      <th>launch_id</th>\n",
       "      <th>name</th>\n",
       "      <th>date</th>\n",
       "      <th>rocket_id</th>\n",
       "      <th>launchpad_id</th>\n",
       "      <th>success</th>\n",
       "      <th>failures</th>\n",
       "      <th>ships</th>\n",
       "      <th>capsules</th>\n",
       "      <th>payloads</th>\n",
       "      <th>cores</th>\n",
       "      <th>fairings_reused</th>\n",
       "      <th>fairings_recovery_attempts</th>\n",
       "      <th>fairings_recovered</th>\n",
       "    </tr>\n",
       "  </thead>\n",
       "  <tbody>\n",
       "    <tr>\n",
       "      <th>0</th>\n",
       "      <td>5eb87cd9ffd86e000604b32a</td>\n",
       "      <td>FalconSat</td>\n",
       "      <td>2006-03-24T22:30:00.000Z</td>\n",
       "      <td>5e9d0d95eda69955f709d1eb</td>\n",
       "      <td>5e9e4502f5090995de566f86</td>\n",
       "      <td>False</td>\n",
       "      <td>[{'time': 33, 'altitude': None, 'reason': 'mer...</td>\n",
       "      <td>[]</td>\n",
       "      <td>[]</td>\n",
       "      <td>['5eb0e4b5b6c3bb0006eeb1e1']</td>\n",
       "      <td>[{'core': '5e9e289df35918033d3b2623', 'flight'...</td>\n",
       "      <td>False</td>\n",
       "      <td>False</td>\n",
       "      <td>False</td>\n",
       "    </tr>\n",
       "    <tr>\n",
       "      <th>1</th>\n",
       "      <td>5eb87cdaffd86e000604b32b</td>\n",
       "      <td>DemoSat</td>\n",
       "      <td>2007-03-21T01:10:00.000Z</td>\n",
       "      <td>5e9d0d95eda69955f709d1eb</td>\n",
       "      <td>5e9e4502f5090995de566f86</td>\n",
       "      <td>False</td>\n",
       "      <td>[{'time': 301, 'altitude': 289, 'reason': 'har...</td>\n",
       "      <td>[]</td>\n",
       "      <td>[]</td>\n",
       "      <td>['5eb0e4b6b6c3bb0006eeb1e2']</td>\n",
       "      <td>[{'core': '5e9e289ef35918416a3b2624', 'flight'...</td>\n",
       "      <td>False</td>\n",
       "      <td>False</td>\n",
       "      <td>False</td>\n",
       "    </tr>\n",
       "    <tr>\n",
       "      <th>2</th>\n",
       "      <td>5eb87cdbffd86e000604b32c</td>\n",
       "      <td>Trailblazer</td>\n",
       "      <td>2008-08-03T03:34:00.000Z</td>\n",
       "      <td>5e9d0d95eda69955f709d1eb</td>\n",
       "      <td>5e9e4502f5090995de566f86</td>\n",
       "      <td>False</td>\n",
       "      <td>[{'time': 140, 'altitude': 35, 'reason': 'resi...</td>\n",
       "      <td>[]</td>\n",
       "      <td>[]</td>\n",
       "      <td>['5eb0e4b6b6c3bb0006eeb1e3', '5eb0e4b6b6c3bb00...</td>\n",
       "      <td>[{'core': '5e9e289ef3591814873b2625', 'flight'...</td>\n",
       "      <td>False</td>\n",
       "      <td>False</td>\n",
       "      <td>False</td>\n",
       "    </tr>\n",
       "    <tr>\n",
       "      <th>3</th>\n",
       "      <td>5eb87cdbffd86e000604b32d</td>\n",
       "      <td>RatSat</td>\n",
       "      <td>2008-09-28T23:15:00.000Z</td>\n",
       "      <td>5e9d0d95eda69955f709d1eb</td>\n",
       "      <td>5e9e4502f5090995de566f86</td>\n",
       "      <td>True</td>\n",
       "      <td>[]</td>\n",
       "      <td>[]</td>\n",
       "      <td>[]</td>\n",
       "      <td>['5eb0e4b7b6c3bb0006eeb1e5']</td>\n",
       "      <td>[{'core': '5e9e289ef3591855dc3b2626', 'flight'...</td>\n",
       "      <td>False</td>\n",
       "      <td>False</td>\n",
       "      <td>False</td>\n",
       "    </tr>\n",
       "    <tr>\n",
       "      <th>4</th>\n",
       "      <td>5eb87cdcffd86e000604b32e</td>\n",
       "      <td>RazakSat</td>\n",
       "      <td>2009-07-13T03:35:00.000Z</td>\n",
       "      <td>5e9d0d95eda69955f709d1eb</td>\n",
       "      <td>5e9e4502f5090995de566f86</td>\n",
       "      <td>True</td>\n",
       "      <td>[]</td>\n",
       "      <td>[]</td>\n",
       "      <td>[]</td>\n",
       "      <td>['5eb0e4b7b6c3bb0006eeb1e6']</td>\n",
       "      <td>[{'core': '5e9e289ef359184f103b2627', 'flight'...</td>\n",
       "      <td>False</td>\n",
       "      <td>False</td>\n",
       "      <td>False</td>\n",
       "    </tr>\n",
       "    <tr>\n",
       "      <th>5</th>\n",
       "      <td>5eb87cddffd86e000604b32f</td>\n",
       "      <td>Falcon 9 Test Flight</td>\n",
       "      <td>2010-06-04T18:45:00.000Z</td>\n",
       "      <td>5e9d0d95eda69973a809d1ec</td>\n",
       "      <td>5e9e4501f509094ba4566f84</td>\n",
       "      <td>True</td>\n",
       "      <td>[]</td>\n",
       "      <td>[]</td>\n",
       "      <td>[]</td>\n",
       "      <td>['5eb0e4b7b6c3bb0006eeb1e7']</td>\n",
       "      <td>[{'core': '5e9e289ef359185f2b3b2628', 'flight'...</td>\n",
       "      <td>NaN</td>\n",
       "      <td>NaN</td>\n",
       "      <td>NaN</td>\n",
       "    </tr>\n",
       "    <tr>\n",
       "      <th>6</th>\n",
       "      <td>5eb87cdeffd86e000604b330</td>\n",
       "      <td>COTS 1</td>\n",
       "      <td>2010-12-08T15:43:00.000Z</td>\n",
       "      <td>5e9d0d95eda69973a809d1ec</td>\n",
       "      <td>5e9e4501f509094ba4566f84</td>\n",
       "      <td>True</td>\n",
       "      <td>[]</td>\n",
       "      <td>['5ea6ed2d080df4000697c901']</td>\n",
       "      <td>['5e9e2c5bf35918ed873b2664']</td>\n",
       "      <td>['5eb0e4b9b6c3bb0006eeb1e8', '5eb0e4b9b6c3bb00...</td>\n",
       "      <td>[{'core': '5e9e289ef35918187c3b2629', 'flight'...</td>\n",
       "      <td>None</td>\n",
       "      <td>None</td>\n",
       "      <td>None</td>\n",
       "    </tr>\n",
       "    <tr>\n",
       "      <th>7</th>\n",
       "      <td>5eb87cdfffd86e000604b331</td>\n",
       "      <td>COTS 2</td>\n",
       "      <td>2012-05-22T07:44:00.000Z</td>\n",
       "      <td>5e9d0d95eda69973a809d1ec</td>\n",
       "      <td>5e9e4501f509094ba4566f84</td>\n",
       "      <td>True</td>\n",
       "      <td>[]</td>\n",
       "      <td>['5ea6ed2d080df4000697c901']</td>\n",
       "      <td>['5e9e2c5bf3591882af3b2665']</td>\n",
       "      <td>['5eb0e4bab6c3bb0006eeb1ea']</td>\n",
       "      <td>[{'core': '5e9e289ef35918f39c3b262a', 'flight'...</td>\n",
       "      <td>None</td>\n",
       "      <td>None</td>\n",
       "      <td>None</td>\n",
       "    </tr>\n",
       "    <tr>\n",
       "      <th>8</th>\n",
       "      <td>5eb87ce0ffd86e000604b332</td>\n",
       "      <td>CRS-1</td>\n",
       "      <td>2012-10-08T00:35:00.000Z</td>\n",
       "      <td>5e9d0d95eda69973a809d1ec</td>\n",
       "      <td>5e9e4501f509094ba4566f84</td>\n",
       "      <td>True</td>\n",
       "      <td>[]</td>\n",
       "      <td>['5ea6ed2d080df4000697c902']</td>\n",
       "      <td>['5e9e2c5bf3591835983b2666']</td>\n",
       "      <td>['5eb0e4bab6c3bb0006eeb1eb', '5eb0e4bab6c3bb00...</td>\n",
       "      <td>[{'core': '5e9e289ff3591821a73b262b', 'flight'...</td>\n",
       "      <td>None</td>\n",
       "      <td>None</td>\n",
       "      <td>None</td>\n",
       "    </tr>\n",
       "    <tr>\n",
       "      <th>9</th>\n",
       "      <td>5eb87ce1ffd86e000604b333</td>\n",
       "      <td>CRS-2</td>\n",
       "      <td>2013-03-01T19:10:00.000Z</td>\n",
       "      <td>5e9d0d95eda69973a809d1ec</td>\n",
       "      <td>5e9e4501f509094ba4566f84</td>\n",
       "      <td>True</td>\n",
       "      <td>[]</td>\n",
       "      <td>['5ea6ed2d080df4000697c902']</td>\n",
       "      <td>['5e9e2c5bf359189ef23b2667']</td>\n",
       "      <td>['5eb0e4bbb6c3bb0006eeb1ed']</td>\n",
       "      <td>[{'core': '5e9e289ff3591884e03b262c', 'flight'...</td>\n",
       "      <td>None</td>\n",
       "      <td>None</td>\n",
       "      <td>None</td>\n",
       "    </tr>\n",
       "  </tbody>\n",
       "</table>\n",
       "</div>"
      ],
      "text/plain": [
       "                  launch_id                  name                      date  \\\n",
       "0  5eb87cd9ffd86e000604b32a             FalconSat  2006-03-24T22:30:00.000Z   \n",
       "1  5eb87cdaffd86e000604b32b               DemoSat  2007-03-21T01:10:00.000Z   \n",
       "2  5eb87cdbffd86e000604b32c           Trailblazer  2008-08-03T03:34:00.000Z   \n",
       "3  5eb87cdbffd86e000604b32d                RatSat  2008-09-28T23:15:00.000Z   \n",
       "4  5eb87cdcffd86e000604b32e              RazakSat  2009-07-13T03:35:00.000Z   \n",
       "5  5eb87cddffd86e000604b32f  Falcon 9 Test Flight  2010-06-04T18:45:00.000Z   \n",
       "6  5eb87cdeffd86e000604b330                COTS 1  2010-12-08T15:43:00.000Z   \n",
       "7  5eb87cdfffd86e000604b331                COTS 2  2012-05-22T07:44:00.000Z   \n",
       "8  5eb87ce0ffd86e000604b332                 CRS-1  2012-10-08T00:35:00.000Z   \n",
       "9  5eb87ce1ffd86e000604b333                 CRS-2  2013-03-01T19:10:00.000Z   \n",
       "\n",
       "                  rocket_id              launchpad_id  success  \\\n",
       "0  5e9d0d95eda69955f709d1eb  5e9e4502f5090995de566f86    False   \n",
       "1  5e9d0d95eda69955f709d1eb  5e9e4502f5090995de566f86    False   \n",
       "2  5e9d0d95eda69955f709d1eb  5e9e4502f5090995de566f86    False   \n",
       "3  5e9d0d95eda69955f709d1eb  5e9e4502f5090995de566f86     True   \n",
       "4  5e9d0d95eda69955f709d1eb  5e9e4502f5090995de566f86     True   \n",
       "5  5e9d0d95eda69973a809d1ec  5e9e4501f509094ba4566f84     True   \n",
       "6  5e9d0d95eda69973a809d1ec  5e9e4501f509094ba4566f84     True   \n",
       "7  5e9d0d95eda69973a809d1ec  5e9e4501f509094ba4566f84     True   \n",
       "8  5e9d0d95eda69973a809d1ec  5e9e4501f509094ba4566f84     True   \n",
       "9  5e9d0d95eda69973a809d1ec  5e9e4501f509094ba4566f84     True   \n",
       "\n",
       "                                            failures  \\\n",
       "0  [{'time': 33, 'altitude': None, 'reason': 'mer...   \n",
       "1  [{'time': 301, 'altitude': 289, 'reason': 'har...   \n",
       "2  [{'time': 140, 'altitude': 35, 'reason': 'resi...   \n",
       "3                                                 []   \n",
       "4                                                 []   \n",
       "5                                                 []   \n",
       "6                                                 []   \n",
       "7                                                 []   \n",
       "8                                                 []   \n",
       "9                                                 []   \n",
       "\n",
       "                          ships                      capsules  \\\n",
       "0                            []                            []   \n",
       "1                            []                            []   \n",
       "2                            []                            []   \n",
       "3                            []                            []   \n",
       "4                            []                            []   \n",
       "5                            []                            []   \n",
       "6  ['5ea6ed2d080df4000697c901']  ['5e9e2c5bf35918ed873b2664']   \n",
       "7  ['5ea6ed2d080df4000697c901']  ['5e9e2c5bf3591882af3b2665']   \n",
       "8  ['5ea6ed2d080df4000697c902']  ['5e9e2c5bf3591835983b2666']   \n",
       "9  ['5ea6ed2d080df4000697c902']  ['5e9e2c5bf359189ef23b2667']   \n",
       "\n",
       "                                            payloads  \\\n",
       "0                       ['5eb0e4b5b6c3bb0006eeb1e1']   \n",
       "1                       ['5eb0e4b6b6c3bb0006eeb1e2']   \n",
       "2  ['5eb0e4b6b6c3bb0006eeb1e3', '5eb0e4b6b6c3bb00...   \n",
       "3                       ['5eb0e4b7b6c3bb0006eeb1e5']   \n",
       "4                       ['5eb0e4b7b6c3bb0006eeb1e6']   \n",
       "5                       ['5eb0e4b7b6c3bb0006eeb1e7']   \n",
       "6  ['5eb0e4b9b6c3bb0006eeb1e8', '5eb0e4b9b6c3bb00...   \n",
       "7                       ['5eb0e4bab6c3bb0006eeb1ea']   \n",
       "8  ['5eb0e4bab6c3bb0006eeb1eb', '5eb0e4bab6c3bb00...   \n",
       "9                       ['5eb0e4bbb6c3bb0006eeb1ed']   \n",
       "\n",
       "                                               cores fairings_reused  \\\n",
       "0  [{'core': '5e9e289df35918033d3b2623', 'flight'...           False   \n",
       "1  [{'core': '5e9e289ef35918416a3b2624', 'flight'...           False   \n",
       "2  [{'core': '5e9e289ef3591814873b2625', 'flight'...           False   \n",
       "3  [{'core': '5e9e289ef3591855dc3b2626', 'flight'...           False   \n",
       "4  [{'core': '5e9e289ef359184f103b2627', 'flight'...           False   \n",
       "5  [{'core': '5e9e289ef359185f2b3b2628', 'flight'...             NaN   \n",
       "6  [{'core': '5e9e289ef35918187c3b2629', 'flight'...            None   \n",
       "7  [{'core': '5e9e289ef35918f39c3b262a', 'flight'...            None   \n",
       "8  [{'core': '5e9e289ff3591821a73b262b', 'flight'...            None   \n",
       "9  [{'core': '5e9e289ff3591884e03b262c', 'flight'...            None   \n",
       "\n",
       "  fairings_recovery_attempts fairings_recovered  \n",
       "0                      False              False  \n",
       "1                      False              False  \n",
       "2                      False              False  \n",
       "3                      False              False  \n",
       "4                      False              False  \n",
       "5                        NaN                NaN  \n",
       "6                       None               None  \n",
       "7                       None               None  \n",
       "8                       None               None  \n",
       "9                       None               None  "
      ]
     },
     "execution_count": 3,
     "metadata": {},
     "output_type": "execute_result"
    }
   ],
   "source": [
    "pd.options.display.max_rows = 30\n",
    "pd.options.display.max_columns = 30\n",
    "\n",
    "launches.head(10)               # Main DataFrame ; contains unique_ids of other df's\n",
    "# rockets.head(10)               \n",
    "# launchpads.head(10)            # Key DataFrames ; contains additional info of cols in Main df\n",
    "# payloads.head(10)\n",
    "# ships.head(20)\n",
    "# cores.head(10)\n",
    "# capsules.head(10)"
   ]
  },
  {
   "cell_type": "markdown",
   "metadata": {},
   "source": [
    "\n"
   ]
  },
  {
   "cell_type": "markdown",
   "metadata": {},
   "source": [
    "*Key Observations from Data Preview:*"
   ]
  },
  {
   "cell_type": "markdown",
   "metadata": {},
   "source": [
    "1. There a lot of categorical features and a datetime feature stored as string. It would be useful to convert them to an approriate type for better analysis.\n",
    "\n",
    "\n",
    "2. The 'id columns' in the df's which are in the form of an MD5 hash, act as lisaon to other df's. Converting them to name columns would improve comprehensiblity.\n",
    "\n",
    "\n",
    "3. A lot of interelated data are stored in different tables. For example: the launches df contains the payload to be launched but the payloads df would contain the payload's manufacturers. In this scenario, it would be useful to have a function extract information from a related table.\n",
    "\n",
    "\n",
    "4. Certain features hold list/array type values in the form of strings. Having them tranformed to list type would make it more efficient to work with. "
   ]
  },
  {
   "cell_type": "markdown",
   "metadata": {},
   "source": [
    "\n"
   ]
  },
  {
   "cell_type": "markdown",
   "metadata": {},
   "source": [
    "\n"
   ]
  },
  {
   "cell_type": "markdown",
   "metadata": {},
   "source": [
    "### Data Preparation"
   ]
  },
  {
   "cell_type": "markdown",
   "metadata": {},
   "source": [
    "In this stage, we'll conduct some basic data cleaning procedures and work on some of the observations from the data preview stage. After this, we'll define a bunch of new features essential to our analysis. \n",
    "\n",
    "* Handling missing data by imputing appropriate values. \n",
    "* Converting datatypes to types that would be more suitable for analysis.\n",
    "* Defining functions that would ease data tranformation and analysis. \n",
    "* Tranforming data to appropriate format for ease of reading and analysis.\n",
    "* Feature Engineering - Adding and defining features essential to solving problems. \n",
    "* Variable Definition for Visualisations."
   ]
  },
  {
   "cell_type": "markdown",
   "metadata": {},
   "source": [
    "#### Collecting df Essentials"
   ]
  },
  {
   "cell_type": "code",
   "execution_count": 4,
   "metadata": {},
   "outputs": [],
   "source": [
    "missing_data_pct = [] \n",
    "DTypes = []\n",
    "data = [launches, rockets, launchpads, payloads, ships, cores, capsules]\n",
    "\n",
    "# Calucate percentage of missing data for each dataframe; handling missing values\n",
    "\n",
    "for df in data:   \n",
    "    missing_data_pct.append(df.isnull().sum().apply(lambda x : 100*(x/len(df.index))))\n",
    "    DTypes.append(df.dtypes)\n",
    "\n",
    "#DTypes\n",
    "#missing_data_pct[0].drop_duplicates(keep = False)                    # Not ideal for related variables in df"
   ]
  },
  {
   "cell_type": "markdown",
   "metadata": {},
   "source": [
    "#### Visualising Missing Data"
   ]
  },
  {
   "cell_type": "code",
   "execution_count": 5,
   "metadata": {
    "scrolled": true
   },
   "outputs": [],
   "source": [
    "# fig, axes = plt.pyplot.subplots(7,1, figsize = (25,30))\n",
    "# df_num = 0\n",
    "# while df_num != 7:\n",
    "#     for row in range(7): \n",
    "#         for column in range(1):\n",
    "#             N = sns.heatmap(data[df_num].isnull().T, ax = axes[row])\n",
    "#             df_num += 1"
   ]
  },
  {
   "cell_type": "markdown",
   "metadata": {},
   "source": [
    "#### Dealing with Null Values"
   ]
  },
  {
   "cell_type": "code",
   "execution_count": 6,
   "metadata": {},
   "outputs": [],
   "source": [
    "# Total rows in main df is approx 100, thus retaining all data\n",
    "\n",
    "# Handling missing values for launch data\n",
    "\n",
    "launches.fairings_reused.fillna('Unknown', inplace = True)        # Might change imputation value basis future analysis\n",
    "launches.fairings_recovered.fillna('Unknown', inplace = True)\n",
    "launches.fairings_recovery_attempts.fillna('Unknown', inplace = True)\n",
    "\n",
    "# Handling missing values for payload data\n",
    "\n",
    "payloads.mass_kg.fillna(payloads.mass_kg.median(), inplace = True)  # Imputing median to mitigate effect of outliers\n",
    "payloads.mass_lb.fillna(payloads.mass_lb.median(), inplace = True)\n",
    "payloads.regime.fillna('Unknown', inplace = True)\n",
    "payloads.orbit.fillna('Unknown', inplace = True)\n",
    "payloads.reference_system.fillna('Unknown', inplace = True)\n",
    "\n",
    "# Don't fancy using ships' data for our analysis, hence skipping imputation of missing values\n",
    "\n",
    "# Handling missing values for cores data\n",
    "\n",
    "cores.block.fillna(0, inplace = True)  # Since all cores have atleast a single block; 0 implies unknown status\n",
    "\n",
    "# Re-run code cells 4 and 5 to witness changes"
   ]
  },
  {
   "cell_type": "markdown",
   "metadata": {},
   "source": [
    "#### Datatype Conversion"
   ]
  },
  {
   "cell_type": "code",
   "execution_count": 7,
   "metadata": {
    "scrolled": true
   },
   "outputs": [],
   "source": [
    "# Converting features to an appropriate type for ease of analysis.\n",
    "\n",
    "# Launches\n",
    "\n",
    "launches.date = pd.to_datetime(launches.date)\n",
    "launches[['fairings_reused','fairings_recovery_attempts',\n",
    "                                   'fairings_recovered']] = launches[['fairings_reused', 'fairings_recovery_attempts',\n",
    "                                                                      'fairings_recovered']].astype('bool')\n",
    "# Rockets\n",
    "\n",
    "rockets.boosters = pd.Series(pd.Categorical(rockets.boosters, ordered = False))\n",
    "\n",
    "# launchpads\n",
    "\n",
    "for col in ['status','timezone','region','locality']:\n",
    "    launchpads[col] = pd.Series(pd.Categorical(launchpads[col], ordered = False))\n",
    "    \n",
    "# payloads\n",
    "\n",
    "for col in ['orbit', 'reference_system', 'regime']:\n",
    "    payloads[col] = pd.Series(pd.Categorical(payloads[col], ordered = False))\n",
    "\n",
    "# cores\n",
    "cores.status = pd.Series(pd.Categorical(cores.status, ordered = False))\n",
    "\n",
    "# capsules\n",
    "capsules.status = pd.Series(pd.Categorical(capsules.status, ordered = False))\n",
    "\n",
    "# Re-run code cell 4 to witness changes"
   ]
  },
  {
   "cell_type": "markdown",
   "metadata": {},
   "source": [
    "#### Defining Essential Functions"
   ]
  },
  {
   "cell_type": "code",
   "execution_count": 8,
   "metadata": {},
   "outputs": [],
   "source": [
    "# The following functions would aid in data tranformation and in preparing new datasets from the existing df's\n",
    "\n",
    "# Function to get values from key df's onto the main df\n",
    "\n",
    "def get_value(client_id_col, key_df, key_id_col_name, key_val_col_name): \n",
    "    \n",
    "    DF = key_df[[key_id_col_name, key_val_col_name]]\n",
    "    DF.set_index( key_id_col_name, inplace = True)\n",
    "    val_list = []\n",
    "    \n",
    "    for id in client_id_col:\n",
    "        for ID in DF.index:\n",
    "            if id  == ID:\n",
    "                val_list.append(DF.loc[ID,key_val_col_name])\n",
    "    \n",
    "    return val_list \n",
    "\n",
    "# Replacing entity Id's with names\n",
    "    \n",
    "def clean_seq(x):       # For lists in form of strings\n",
    "    \n",
    "    chars = ['[',']',\"'\"]\n",
    "    for char in chars:\n",
    "        x = x.replace(char,'')\n",
    "        \n",
    "    return x.split(',')\n",
    "\n",
    "\n",
    "\n",
    "def id_to_name(x, key_df, id_col_name, name_col_name, is_list = False):    # The converter function\n",
    "    \n",
    "    if is_list == True:             # Be sure to apply clean_seq() first\n",
    "        \n",
    "        name_list = []\n",
    "        for val in x:\n",
    "            name_list.append(id_to_name(val.strip(),key_df,id_col_name,name_col_name))\n",
    "        \n",
    "        return name_list\n",
    "        \n",
    "    DF = key_df[[id_col_name, name_col_name]]       # creating Id-name pairs from the key dataframe\n",
    "    DF.set_index(id_col_name, inplace = True)\n",
    "    \n",
    "    for ID in DF.index:                             \n",
    "        if x == ID:\n",
    "            return DF.loc[ID,name_col_name]"
   ]
  },
  {
   "cell_type": "markdown",
   "metadata": {},
   "source": [
    "#### Data Transformation"
   ]
  },
  {
   "cell_type": "code",
   "execution_count": 9,
   "metadata": {
    "scrolled": true
   },
   "outputs": [],
   "source": [
    "# Applying converter function to pure Id columns\n",
    "\n",
    "launches.rocket_id = launches.rocket_id.apply(id_to_name, args = [rockets,'rocket_id','name'])\n",
    "launches.launchpad_id = launches.launchpad_id.apply(id_to_name, args = [launchpads,'launchpad_id','full_name'])\n",
    "\n",
    "launches.rename(columns = { 'rocket_id' : 'rocket',\n",
    "                            'launchpad_id': 'launchpad'\n",
    "                           }, inplace = True)\n",
    "\n",
    "\n",
    "# Applying converter to columns containing Id list\n",
    "\n",
    "for col in ['payloads','ships','capsules']:\n",
    "    launches[col] = launches[col].apply(clean_seq)\n",
    "\n",
    "\n",
    "launches.payloads = launches.payloads.apply(id_to_name, args = [payloads,'payload_id','name'], is_list = True)\n",
    "launches.ships = launches.ships.apply(id_to_name, args = [ships,'ship_id','name'], is_list = True)\n",
    "launches.capsules = launches.capsules.apply(id_to_name, args = [capsules,'capsule_id','serial'], is_list = True)\n",
    "\n",
    "\n",
    "# Converter DataFrame \n",
    "\n",
    "#launches.head(20)"
   ]
  },
  {
   "cell_type": "markdown",
   "metadata": {},
   "source": [
    "#### Defining New Features"
   ]
  },
  {
   "cell_type": "markdown",
   "metadata": {},
   "source": [
    "*launches*"
   ]
  },
  {
   "cell_type": "code",
   "execution_count": 10,
   "metadata": {},
   "outputs": [],
   "source": [
    "# Adding features to launches df\n",
    "\n",
    "# Adding Launch Year\n",
    "\n",
    "launches['launch_year']  = launches.date.dt.year\n",
    "\n",
    "# Adding Launch Month\n",
    "\n",
    "launches['launch_month']  = launches.date.dt.month\n",
    "\n",
    "import calendar\n",
    "\n",
    "launches.launch_month = launches.launch_month.apply(lambda x: calendar.month_abbr[x])\n",
    "\n",
    "# Adding Launch Quarter\n",
    "\n",
    "q_map = {\n",
    "          1 : 'Q1',\n",
    "          2 : 'Q2',\n",
    "          3 : 'Q3',\n",
    "          4 : 'Q4'\n",
    "          }\n",
    "\n",
    "launches['launch_quarter'] =  launches.date.dt.quarter.map(q_map) \n",
    "launches['quarter'] = launches.launch_year.astype('str') + launches.launch_quarter.astype('str')\n",
    "\n",
    "# Adding cost of launch basis rocket\n",
    "\n",
    "launch_costs = pd.Series(get_value(launches.rocket, rockets,'name','cost_per_launch'), name = 'launch_cost')\n",
    "launches['launch_cost'] = launch_costs\n",
    "\n",
    "#launches.head(20)"
   ]
  },
  {
   "cell_type": "markdown",
   "metadata": {},
   "source": [
    "*rockets*"
   ]
  },
  {
   "cell_type": "code",
   "execution_count": 11,
   "metadata": {},
   "outputs": [],
   "source": [
    "# Adding Features to rockets df\n",
    "\n",
    "# Adding Payload capacity\n",
    " \n",
    "payload_capacity_LEO = {                                      # Data Source: SpaceX.com/vehicles\n",
    "                         'Falcon 1' : None,\n",
    "                         'Falcon 9' : 22800,\n",
    "                         'Falcon Heavy' : 63800,\n",
    "                         'Starship': 90718             # Assumption: Starship has same payload capacity in LEO & GTO\n",
    "                         }\n",
    "\n",
    "\n",
    "payload_capacity_GTO = {                                     # Data Source: spaceX.com/vehicles\n",
    "                         'Falcon 1' : None,\n",
    "                         'Falcon 9' :  8300,\n",
    "                         'Falcon Heavy': 26700,\n",
    "                         'Starship' : 90718 \n",
    "                          } \n",
    "\n",
    "\n",
    "rockets['LEO_capacity_kg'] = rockets.name.map(payload_capacity_LEO)      \n",
    "rockets['GTO_capacity_kg'] =  rockets.name.map(payload_capacity_GTO)\n",
    "\n",
    "# Adding cost efficiency metrics\n",
    "\n",
    "rockets['cost_per_kilo_LEO'] = rockets.cost_per_launch/rockets.LEO_capacity_kg\n",
    "rockets['payload_per_dollar_LEO'] = rockets.LEO_capacity_kg/rockets.cost_per_launch\n",
    "\n",
    "rockets['cost_per_kilo_GTO'] = rockets.cost_per_launch/rockets.GTO_capacity_kg\n",
    "rockets['payload_per_dollar_GTO'] = rockets.GTO_capacity_kg/rockets.cost_per_launch\n",
    "\n",
    "# Adding payloads to mass percent\n",
    "\n",
    "rockets['payload_pct_mass_kg_LEO'] = (rockets.LEO_capacity_kg/rockets.mass_kg)*100"
   ]
  },
  {
   "cell_type": "markdown",
   "metadata": {},
   "source": [
    "*payloads*"
   ]
  },
  {
   "cell_type": "code",
   "execution_count": 12,
   "metadata": {},
   "outputs": [],
   "source": [
    "# Adding Features to payloads df\n",
    "\n",
    "#  Adding Payload Manufacturer & Customer Classes \n",
    "\n",
    "US_gov = ['US Naval Academy','National Space Organization','Naval Postgrad School','Naval Research Lab',\n",
    "          'Applied Defense Systems','USAF Academy']\n",
    "\n",
    "\n",
    "foreign_gov = ['Israel Aerospace Industries','NSPO','South Korea']\n",
    "\n",
    "def class1(x):                        # To be used on manufacturer data to classify customers.\n",
    "    \n",
    "    if x in US_gov:\n",
    "        return 'US Government'\n",
    "    \n",
    "    elif x in foreign_gov:\n",
    "        return 'Foreign Government'\n",
    "    \n",
    "    elif x == 'SpaceX':\n",
    "        return 'SpaceX'\n",
    "    \n",
    "    elif x == '':\n",
    "        return 'Unknown'\n",
    "     \n",
    "    else: \n",
    "        return 'Private Company'\n",
    "    \n",
    "# launches.payloads = [x[0] for x in launches.payloads]   # Data was present as a single-valued list\n",
    "\n",
    "payloads.manufacturers = [x[0] for x in payloads.manufacturers.apply(clean_seq)]\n",
    "payloads['customer_class'] = payloads.manufacturers.apply(class1)"
   ]
  },
  {
   "cell_type": "code",
   "execution_count": 13,
   "metadata": {},
   "outputs": [],
   "source": [
    "# Re run the data preview cells to witness changes."
   ]
  },
  {
   "cell_type": "code",
   "execution_count": 14,
   "metadata": {},
   "outputs": [],
   "source": [
    "# Visualisation Aids\n",
    "\n",
    "font = {\n",
    "             'family': 'Barlow',\n",
    "             'color':  'black',\n",
    "             'weight': 'normal',\n",
    "             'size': 12,\n",
    "              }"
   ]
  },
  {
   "cell_type": "markdown",
   "metadata": {},
   "source": [
    "\n",
    "\n"
   ]
  },
  {
   "cell_type": "markdown",
   "metadata": {},
   "source": [
    "\n",
    "\n"
   ]
  },
  {
   "cell_type": "markdown",
   "metadata": {},
   "source": [
    "\n",
    "## Exploration and Analysis"
   ]
  },
  {
   "cell_type": "markdown",
   "metadata": {},
   "source": [
    "\n"
   ]
  },
  {
   "cell_type": "markdown",
   "metadata": {},
   "source": [
    "In this exploration, we'll look to study SpaceX launch frequencies over the years with an aim to discern patterns in \n",
    "in their launch operations. We'll also be exploring the rocket inventory, and analysing their usage and efficacy.\n",
    "\n",
    "Secondly, we will study SpaceX's customer base and understand their general requirements which hopefully should give us an an understanding of the SpaceX business. "
   ]
  },
  {
   "cell_type": "markdown",
   "metadata": {},
   "source": [
    "### Inferences"
   ]
  },
  {
   "cell_type": "markdown",
   "metadata": {},
   "source": [
    "In order to guide our exploration and satiate our curiosity, we'll be looking to answer the following questions:\n",
    "\n",
    " - In what period did SpaceX amp up it's operations?\n",
    " - How are launches spaced out in a year? Is there a season with most launches? If yes, explore.\n",
    " - Which rockets have the potential to be SpaceX's workhorse in the coming future?\n",
    " - What are the general payload requirements of SpaceX's major customers ( including itself) in terms of mass, reference      system and orbit?\n",
    " - Repeat customers vs Diversification : What would be better in the long run?"
   ]
  },
  {
   "cell_type": "markdown",
   "metadata": {},
   "source": [
    "### Analysing Launch Frequencies"
   ]
  },
  {
   "cell_type": "markdown",
   "metadata": {},
   "source": [
    "\n"
   ]
  },
  {
   "cell_type": "markdown",
   "metadata": {},
   "source": [
    "To understand launch frequencies we'll be visualising yearly launches grouped by the type of rocket used.\n"
   ]
  },
  {
   "cell_type": "code",
   "execution_count": 15,
   "metadata": {},
   "outputs": [
    {
     "data": {
      "text/plain": [
       "<seaborn.axisgrid.FacetGrid at 0x20c2bd8cac0>"
      ]
     },
     "execution_count": 15,
     "metadata": {},
     "output_type": "execute_result"
    },
    {
     "data": {
      "image/png": "[encoded data removed]",
      "text/plain": [
       "<Figure size 1080x360 with 3 Axes>"
      ]
     },
     "metadata": {},
     "output_type": "display_data"
    }
   ],
   "source": [
    "# Style Setting\n",
    "\n",
    "sns.set_style('white')\n",
    "\n",
    "# DF to visualise launch timeline\n",
    "\n",
    "LD = pd.DataFrame(launches[['rocket','launch_year']].groupby(['launch_year','rocket']).size())\n",
    "LD.reset_index(inplace = True)\n",
    "LD.columns = ['launch_year','rocket','Launches/Year']\n",
    "#lD\n",
    "\n",
    "# Visualising launch timeline\n",
    "\n",
    "f = sns.catplot(x = 'launch_year', y = 'Launches/Year',col =  'rocket',kind = 'point', data = LD)\n",
    "f.set(yticks = np.arange(0,22,2), xlabel = 'Launch Year')\n",
    "f.set_xticklabels(rotation = 30)\n"
   ]
  },
  {
   "cell_type": "markdown",
   "metadata": {},
   "source": [
    "Before analyzing the above data, it would also be useful to also understand the success rate of these launches."
   ]
  },
  {
   "cell_type": "code",
   "execution_count": 16,
   "metadata": {
    "scrolled": true
   },
   "outputs": [
    {
     "data": {
      "text/plain": [
       "<seaborn.axisgrid.FacetGrid at 0x20c2c32da60>"
      ]
     },
     "execution_count": 16,
     "metadata": {},
     "output_type": "execute_result"
    },
    {
     "data": {
      "image/png": "[encoded data removed]",
      "text/plain": [
       "<Figure size 1140.62x360 with 3 Axes>"
      ]
     },
     "metadata": {},
     "output_type": "display_data"
    }
   ],
   "source": [
    "# Visualising Launch Perfomance\n",
    "\n",
    "SR = sns.catplot(y ='launch_year', hue = 'success', col = 'rocket', kind = 'count', data = launches, orient  = \"h\")\n",
    "SR.set( xticks = np.arange(0,24,2), xlabel = 'No. Launches', ylabel = 'Launch Year')\n"
   ]
  },
  {
   "cell_type": "markdown",
   "metadata": {},
   "source": [
    "Observations: We observe that falcon 1 was used as a learning tool and after getting 2 consecutive successes in 2008 and 2009 respectively, SpaceX moved onto falcon 9 - which has pretty much been the workhorse rocket ship. The Falcon 9 has succeded in all but 2 of it's launches and has proved itself to be the go-to rocket. The falcon heavy, which is essentially 3 Falcon 9's packed together, was first launched in 2018 in a test flight and has had 4 launches until 2020.\n",
    "\n",
    "Key points:\n",
    "        \n",
    "* We see two major upticks in operations: once in 2014 - when the launches doubled to 6, and the other in 2017 - which is when SpaceX really upscaled its operations, and did 18 launches.\n",
    "\n",
    "\n",
    "* A significant dip in operations is observed in 2019 wherein the launch operations were nearly halved, \n",
    "   accompanied by an equally sharp rise in operations the following year. \n",
    "\n",
    "\n",
    "* From the launch success visualisation, it's evident that SpaceX has enjoyed a very high success rate.\n",
    "\n",
    "          \n",
    "          \n",
    "        \n",
    "          "
   ]
  },
  {
   "cell_type": "markdown",
   "metadata": {},
   "source": [
    "Yet another question that comes to mind is how are SpaceX launches distributed over a year.\n",
    "And if there has been a particular quarter in which SpaceX carries out most of it's launches?\n",
    "\n",
    "\n",
    "To answer this, we'll first visualise the total quarterly launches and analyse the launch pattern \n",
    "in aggregate.\n",
    " "
   ]
  },
  {
   "cell_type": "markdown",
   "metadata": {},
   "source": [
    "\n"
   ]
  },
  {
   "cell_type": "code",
   "execution_count": 19,
   "metadata": {},
   "outputs": [
    {
     "data": {
      "text/plain": [
       "Text(0.5, 1.0, 'Quartely Aggregate Launches')"
      ]
     },
     "execution_count": 19,
     "metadata": {},
     "output_type": "execute_result"
    },
    {
     "data": {
      "image/png": "[encoded data removed]",
      "text/plain": [
       "<Figure size 1440x216 with 1 Axes>"
      ]
     },
     "metadata": {},
     "output_type": "display_data"
    }
   ],
   "source": [
    "# DF for visualising Quarterly launch data\n",
    "\n",
    "dfQ = launches.groupby(['launch_year','launch_quarter',]).size().unstack(0)\n",
    "dfQ['quarter_total'] = dfQ.sum(axis = 1)\n",
    "dfQ.loc['year_total']  = dfQ.sum(axis = 0)\n",
    "dfQ\n",
    "\n",
    "# Total Quartely launches\n",
    "\n",
    "QT = sns.set(rc = {'figure.figsize' : (20,3)}, style = 'whitegrid')\n",
    "QT = sns.pointplot( x = dfQ.index.drop('year_total'), y  = dfQ['quarter_total'].drop('year_total'))\n",
    "sns.despine()\n",
    "\n",
    "QT.set(yticks = np.arange(0,50,5))\n",
    "QT.set_ylabel('Total Launches', loc = 'top', rotation = 0, fontdict = font)\n",
    "QT.set_xlabel('Launch Quarter', rotation = 0, fontdict = font)\n",
    "\n",
    "QT.set_title('Quartely Aggregate Launches', fontdict = {'size' : 15, 'family' : 'Barlow', 'weight' : 'medium'} , pad = 20)"
   ]
  },
  {
   "cell_type": "markdown",
   "metadata": {},
   "source": [
    "From the above graph, it seems that SpaceX carries out most of it's launches in the fist half of the year with the maximum launches happening in Q2 which is then accompanied by dip in launches in Q3 and Q4. \n",
    "\n",
    "It is to be noted that this is aggregate data, what we need to is to find is: if the pattern actually holds true on a yearly basis. Since most of the data in the above graph comes from the years 2017 to 2020. We'll plot the quarterly launch frequencies for these years to further understand this. "
   ]
  },
  {
   "cell_type": "code",
   "execution_count": 20,
   "metadata": {
    "scrolled": true
   },
   "outputs": [
    {
     "data": {
      "text/plain": [
       "Text(0.5, 1.0, 'Quarterly launch data from 2017 to 2020 ')"
      ]
     },
     "execution_count": 20,
     "metadata": {},
     "output_type": "execute_result"
    },
    {
     "data": {
      "image/png": "[encoded data removed]",
      "text/plain": [
       "<Figure size 1080x216 with 1 Axes>"
      ]
     },
     "metadata": {},
     "output_type": "display_data"
    }
   ],
   "source": [
    "launcht = launches.groupby(launches.quarter).size()\n",
    "launcht.index = pd.PeriodIndex(launcht.index, freq = 'Q-JAN')\n",
    "\n",
    "sns.set_style('whitegrid')\n",
    "\n",
    "\n",
    "# Quarterly launch data from 2017 to 2020 \n",
    "\n",
    "idx = pd.period_range('2017Q1', '2020Q4', freq = 'Q-JAN')\n",
    "fig, axes = plt.pyplot.subplots(figsize = (15,3))\n",
    "\n",
    "T = sns.pointplot(x = idx , y = launcht[idx])\n",
    "sns.despine()\n",
    "\n",
    "T.set(yticks = np.arange(0,10,3))\n",
    "\n",
    "T.set_xlabel('Launch Timeline', fontdict = font)\n",
    "T.set_ylabel('Num. Launches', fontdict = font)\n",
    "\n",
    "T.set_title('Quarterly launch data from 2017 to 2020 ', fontdict = font, pad = 20)"
   ]
  },
  {
   "cell_type": "markdown",
   "metadata": {},
   "source": [
    "Alright, barring a few exceptions we observe an alternating pattern, where the launches would increase from Q1 to Q2, followed by a dip in Q3 and a rise in Q4. Overall, we observe the number of launches in second quarter is more than the number of launches in Q4. What remains interesting is despite there being fewer launches in Q3 in 2017 to 2020, the number of launches in Q3 remains more than Q4 in the aggregate data, implying little to no launches were carried out in the fourth quarter during the initial years of SpaceX.\n",
    "\n",
    "**Key Observation**: Q2 remains the period with most launches in a year.\n",
    "\n",
    "**Anomalies**: We see that the alternating pattern is offset at 2 places:\n",
    "\n",
    " * In 2018, when the launches in Q2 stayed the same as those in Q1.This, however seems to be a minor anamoly and it            would be best left out of further investigation for now.\n",
    " \n",
    "\n",
    " * In 2020, when the pattern was completely offset, Q2 launches dipped and stayed the same in Q3 to later decrease            in Q4. Ths most probable candidate for this offset is the manned spaceflight in 2020.\n",
    "\n",
    " "
   ]
  },
  {
   "cell_type": "markdown",
   "metadata": {},
   "source": [
    "\n"
   ]
  },
  {
   "cell_type": "markdown",
   "metadata": {},
   "source": [
    "### Rocket Inventory Analysis"
   ]
  },
  {
   "cell_type": "markdown",
   "metadata": {},
   "source": [
    "\n"
   ]
  },
  {
   "cell_type": "markdown",
   "metadata": {},
   "source": [
    "In the rocket inventory analysis, we'll explore the payload to launch-cost ratio as a metric for cost efficiency, and evaluate potential candidates for a work-horse rocket. Alternatively, we could also find dimensions for a hypothetical \n",
    "rocket ideal for repeated launches.\n",
    "\n",
    "Before we begin, let's first define the parameters which would make a good work-horse:\n",
    "\n",
    "1. Launch cost effciency - An ideal workhorse would give the maximum payload capacity per unit cost.\n",
    "2. Reusability - Here, two things matter - number of times a rocket can be used before being dicarded, and the second - recovery rate of a particular rocket.\n",
    "\n",
    "Since we have limited data on reusability performance, we'll be using launch cost efficiency as our primary indicator.\n",
    "\n",
    "\n",
    "We'll be analyzing rocket dimensions and trying to investigate any underlying relationships that they may have with the\n",
    "payload to cost ratio. Of course, there won't be any causal relationships. What we aim to do here is understand the cost efficiency of SpaceX's rocket design. And for this purpose we'll be looking at the following:\n",
    "         \n",
    "* How has cost efficiency changed with more powerful rockets?\n",
    "\n",
    "\n",
    "* A look at the change in the rocket dimensions\n",
    "\n",
    "\n",
    "* Which dimensional metric is associated with the most change in payload capacity and cost efficiency?\n",
    "\n",
    "\n",
    " "
   ]
  },
  {
   "cell_type": "markdown",
   "metadata": {},
   "source": [
    "             \n",
    "*It is to be noted here that Falcon 9 and Falcon heavy are closely related.*\n",
    "             "
   ]
  },
  {
   "cell_type": "markdown",
   "metadata": {},
   "source": [
    "\n"
   ]
  },
  {
   "cell_type": "markdown",
   "metadata": {},
   "source": [
    "#### Powerful Rockets vs Cost Efficiency"
   ]
  },
  {
   "cell_type": "markdown",
   "metadata": {},
   "source": [
    "In order to measure changes in cost efficiency with the introduction of newer rockets, we'll be plotting the percentage change in payload capacity per unit dollar for each orbit system. "
   ]
  },
  {
   "cell_type": "code",
   "execution_count": 21,
   "metadata": {
    "scrolled": true
   },
   "outputs": [
    {
     "data": {
      "text/plain": [
       "<Figure size 1440x216 with 0 Axes>"
      ]
     },
     "metadata": {},
     "output_type": "display_data"
    },
    {
     "data": {
      "image/png": "[encoded data removed]",
      "text/plain": [
       "<Figure size 1080x216 with 1 Axes>"
      ]
     },
     "metadata": {},
     "output_type": "display_data"
    }
   ],
   "source": [
    "# Percent changes in Cost Efficiency\n",
    "\n",
    "\n",
    "sup = plt.pyplot.figure()\n",
    "plt.pyplot.figure(figsize = (15,3))\n",
    "\n",
    "plt.pyplot.plot(rockets.name,rockets.payload_per_dollar_LEO.pct_change(), color = 'b', label = 'LEO', marker = 'o')\n",
    "plt.pyplot.plot(rockets.name,rockets.payload_per_dollar_GTO.pct_change(), color = 'r', label = 'GTO', marker = 'o')\n",
    "\n",
    "sns.despine()\n",
    "\n",
    "plt.pyplot.yticks(np.arange(-1,55,5))\n",
    "\n",
    "plt.pyplot.xlabel('Rocket Name', fontdict = font)\n",
    "plt.pyplot.ylabel('Percentage Points', fontdict = font)\n",
    "\n",
    "plt.pyplot.title('Improvement in Cost Efficiency', fontdict = font, pad = 20)\n",
    "plt.pyplot.legend(loc = 'best')\n",
    "\n",
    "\n",
    "plt.pyplot.show()"
   ]
  },
  {
   "cell_type": "markdown",
   "metadata": {},
   "source": [
    "We observe a 44% and a 14% improvement in cost efficiency for GTO and LEO respectively on the starship rocket as compared to falcon heavy, which, had shown negligle improvements in the launch cost over falcon 9. An important thing to note here is that cost efficiency actually improved with the introduction of more powerful rockets. This hints at major design and engineering changes over simple addition of costlier parts."
   ]
  },
  {
   "cell_type": "markdown",
   "metadata": {},
   "source": [
    "Our visualisation on the changes in rocket dimension and their relationship with cost efficiency would help us further explore this insight."
   ]
  },
  {
   "cell_type": "markdown",
   "metadata": {},
   "source": [
    "\n"
   ]
  },
  {
   "cell_type": "markdown",
   "metadata": {},
   "source": [
    "#### Changes in Rocket Dimensions"
   ]
  },
  {
   "cell_type": "markdown",
   "metadata": {},
   "source": [
    "Based on the data, we can work with mass, height and diameter as our primary dimensions. The idea is plot the changes in overall dimensions with the introduction of newer rocket model giving us a mental map to compare rocket sizes. "
   ]
  },
  {
   "cell_type": "code",
   "execution_count": 22,
   "metadata": {
    "scrolled": false
   },
   "outputs": [
    {
     "data": {
      "text/plain": [
       "<Figure size 1440x216 with 0 Axes>"
      ]
     },
     "metadata": {},
     "output_type": "display_data"
    },
    {
     "data": {
      "image/png": "[encoded data removed]",
      "text/plain": [
       "<Figure size 1224x288 with 1 Axes>"
      ]
     },
     "metadata": {},
     "output_type": "display_data"
    }
   ],
   "source": [
    "fig = plt.pyplot.figure()\n",
    "plt.pyplot.figure(figsize = (17,4))\n",
    "\n",
    "plt.pyplot.plot(rockets.name,rockets.mass_kg.pct_change() ,color='g', label = 'Mass', marker = 'o')\n",
    "plt.pyplot.plot(rockets.name,rockets.height_mt.pct_change() ,color='b', label = 'Height', marker = 'o')\n",
    "plt.pyplot.plot(rockets.name,rockets.diameter_mt.pct_change(),color='r', label = 'Diameter', marker = 'o')\n",
    "\n",
    "sns.despine()\n",
    "\n",
    "plt.pyplot.xlabel('Rocket Name', fontdict = font)\n",
    "plt.pyplot.ylabel('Percentage Points', loc = 'center', fontdict = font)\n",
    "\n",
    "plt.pyplot.yticks(np.arange(-1,20,1))\n",
    "\n",
    "plt.pyplot.legend(loc = 'upper center')\n",
    "plt.pyplot.title('Percent Changes in Rocket Dimensions', fontdict = font, pad = 20)\n",
    "\n",
    "\n",
    "plt.pyplot.show()"
   ]
  },
  {
   "cell_type": "markdown",
   "metadata": {},
   "source": [
    "Right, so we observe that Falcon 9 had a mammoth 17% increase in mass compared to its predeccessor falcon 1, which then increased by 1.5% with Falcon heavy and decreased by less than a percent in starship. The other 2 dimensions, undewent moderate changes with height increasing by 2% in Falcon 9, staying the same in Falcon heavy, and a then a 1% percent increase in starship; and diameter, increasing by 1%, then 2% and then decreasing by half a percent in starship.\n",
    "\n",
    "Falcon heavy is simply a modified version of Falcon 9 containing a main body and 2 Falcon 9 boosters. This explains the moderate increases in mass and diameter with the same height. Starship, on the other hand is a newly engineered rocket slightly taller than Falcons and mass and diameter between Falcon 9 and Falcon heavy.\n",
    "\n",
    "It would be worth noting the payload capacity of each of these rockets and see how the changes in dimensions hold up with them."
   ]
  },
  {
   "cell_type": "code",
   "execution_count": 23,
   "metadata": {
    "scrolled": true
   },
   "outputs": [
    {
     "data": {
      "image/png": "[encoded data removed]",
      "text/plain": [
       "<Figure size 936x360 with 2 Axes>"
      ]
     },
     "metadata": {},
     "output_type": "display_data"
    }
   ],
   "source": [
    "# Style Setting\n",
    "\n",
    "sns.set_style('white')\n",
    "\n",
    "# Payload Capacities\n",
    "\n",
    "fig = plt.pyplot.figure(figsize = (13,5))\n",
    "\n",
    "# LEO \n",
    "\n",
    "LEO = fig.add_subplot(1,2,1)\n",
    "\n",
    "L = sns.barplot(x = rockets.LEO_capacity_kg, y = rockets.name, palette = 'ocean')\n",
    "sns.despine()\n",
    "\n",
    "L.set_xlabel('Payload Capacity in LEO (Kg)',fontdict = font)\n",
    "L.set_ylabel('Rocket', fontdict = font)\n",
    "\n",
    "L.set_title('Low Earth Orbit', fontdict = font)\n",
    "\n",
    "# GTO \n",
    "\n",
    "GTO = fig.add_subplot(1,2,2)\n",
    "\n",
    "G = sns.barplot(x = rockets.GTO_capacity_kg, y = rockets.name, palette = 'flare')\n",
    "sns.despine()\n",
    "\n",
    "G.set_xlabel('Payload Capacity in GTO (Kg)',fontdict = font)\n",
    "G.set_ylabel('Rocket', fontdict = font)\n",
    "\n",
    "G.set_title('Geostationary Transfer Orbit', fontdict = font)\n",
    "\n",
    "plt.pyplot.subplots_adjust(wspace = .6)"
   ]
  },
  {
   "cell_type": "markdown",
   "metadata": {},
   "source": [
    "From the above graph, it is pretty clear that the payload capacity has increased with newer models and minor tweaks in dimensions. We also observe that Falcons' payload cap is much less in GTO.   \n",
    " "
   ]
  },
  {
   "cell_type": "markdown",
   "metadata": {},
   "source": [
    "An interesting bit would be understand how these dimensions would have moved with the cost efficiency metrics.\n",
    "which should hopefully provide a basis for uncovering some insights on SpaceX's rocket design and engineering principles.\n",
    "\n",
    "\n",
    "The following plot does exactly that. We are plotting cost_per_kg on the y axis to examine it's relationship with each of the dimensions. The cost_per_kg measures in dollars the amount of money spent on carrying a kilogram of payload to each of the orbit systems. "
   ]
  },
  {
   "cell_type": "markdown",
   "metadata": {},
   "source": [
    "\n"
   ]
  },
  {
   "cell_type": "markdown",
   "metadata": {},
   "source": [
    "#### Dimensions vs Cost Efficiency"
   ]
  },
  {
   "cell_type": "markdown",
   "metadata": {},
   "source": [
    "As discussed above we'll be plotting our dimensions against cost_per_kg  in GTO. \n",
    "\n",
    "Additionally, we are going to focus on yet another metric viz payload fraction. It represents the payload capacity as a fraction of the total mass of the rocket. The metric is indicative of engine performance and engineering design, since a high payload fraction means greater payload capacity per unit mass of the rocket, which, is a function of engine performance."
   ]
  },
  {
   "cell_type": "code",
   "execution_count": 24,
   "metadata": {
    "scrolled": false
   },
   "outputs": [
    {
     "data": {
      "image/png": "[encoded data removed]",
      "text/plain": [
       "<Figure size 1080x720 with 4 Axes>"
      ]
     },
     "metadata": {},
     "output_type": "display_data"
    }
   ],
   "source": [
    "# Style Setting\n",
    "\n",
    "sns.set_style('whitegrid')\n",
    "\n",
    "# Plots\n",
    "\n",
    "fig  = plt.pyplot.figure(figsize = (15,10))\n",
    "fig.suptitle('Dimensions vs Cost Efficiency')\n",
    "\n",
    "# Mass vs Cost Efficiency \n",
    "\n",
    "ax1 = fig.add_subplot(2,2,1)\n",
    "\n",
    "plt.pyplot.plot(rockets.mass_kg, rockets.cost_per_kilo_GTO, color='r', label = 'Mass', marker = 'o')\n",
    "\n",
    "plt.pyplot.xlabel('Mass (Kg)', fontdict = font)\n",
    "plt.pyplot.ylabel('Inv. Cost Efficiency ($)', fontdict = font)\n",
    "\n",
    "plt.pyplot.title('Mass vs Cost Efficiency', fontdict = font, pad = 20)\n",
    "\n",
    "\n",
    "# Diameter vs Cost Efficiency \n",
    "\n",
    "ax2 = fig.add_subplot(2,2,2)\n",
    "\n",
    "plt.pyplot.plot(rockets.diameter_mt,rockets.cost_per_kilo_GTO ,color='b', label = 'Diameter', marker = 'o')\n",
    "\n",
    "plt.pyplot.xlabel('Diameter (mtr)', fontdict = font)\n",
    "plt.pyplot.ylabel('Inv. Cost Efficiency ($)', fontdict = font)\n",
    "\n",
    "plt.pyplot.title('Diameter vs Cost Efficiency', fontdict = font, pad = 20)\n",
    "\n",
    "# Height vs Cost Efficiency \n",
    "\n",
    "ax3 = fig.add_subplot(2,2,3)\n",
    "\n",
    "plt.pyplot.plot(rockets.height_mt,rockets.cost_per_kilo_GTO,color='g', label = 'Height', marker = 'o')\n",
    "\n",
    "plt.pyplot.xlabel('Height (mtr)', fontdict = font)\n",
    "plt.pyplot.ylabel('Inv. Cost Efficiency ($)', fontdict = font)\n",
    "\n",
    "plt.pyplot.title('Height vs Cost Efficiency', fontdict = font, pad = 20)\n",
    "\n",
    "# Payload Fraction vs Cost Efficiency \n",
    "\n",
    "ax4 = fig.add_subplot(2,2,4)\n",
    "\n",
    "plt.pyplot.plot(rockets.payload_pct_mass_kg_LEO, rockets.cost_per_kilo_GTO ,color='k',label = 'Payload Fraction', \n",
    "                marker = 'o')\n",
    "\n",
    "plt.pyplot.xlabel('Payload Fraction (%)', fontdict = font)\n",
    "plt.pyplot.ylabel('Inv. Cost Efficiency ($)', fontdict = font)\n",
    "\n",
    "plt.pyplot.title('Payload Fraction vs Cost Efficiency', fontdict = font, pad = 20)\n",
    "\n",
    "\n",
    "plt.pyplot.subplots_adjust(wspace = 0.3, hspace = 0.4)"
   ]
  },
  {
   "cell_type": "markdown",
   "metadata": {},
   "source": [
    "\n"
   ]
  },
  {
   "cell_type": "markdown",
   "metadata": {},
   "source": [
    "In all the above graphs. the first point represents Falcon 9, the second - Falcon Heavy, and third - Starship\n",
    "\n",
    "We observe that cost efficiency has improved as new models were introduced. Starship has shown the greatest improvement in cost efficiency with unit cost of less than $1000 - An improvement of nearly 3000 dollars. \n",
    "\n",
    "While we have already discussed the movement of the first 3 dimensions, it is remarkable that starship has managed to signigicantly reduce the unit cost of payload, and increase the payload fraction to 7.2%.\n"
   ]
  },
  {
   "cell_type": "markdown",
   "metadata": {},
   "source": [
    "Finally, let's look at overall cost of launching a type of rocket alongside their payload capacities to give ourselves a snapshot of the analysis and also check for any numerical triviality.  "
   ]
  },
  {
   "cell_type": "markdown",
   "metadata": {},
   "source": [
    "#### Launch Cost"
   ]
  },
  {
   "cell_type": "code",
   "execution_count": 25,
   "metadata": {
    "scrolled": false
   },
   "outputs": [
    {
     "data": {
      "text/html": [
       "<div>\n",
       "<style scoped>\n",
       "    .dataframe tbody tr th:only-of-type {\n",
       "        vertical-align: middle;\n",
       "    }\n",
       "\n",
       "    .dataframe tbody tr th {\n",
       "        vertical-align: top;\n",
       "    }\n",
       "\n",
       "    .dataframe thead th {\n",
       "        text-align: right;\n",
       "    }\n",
       "</style>\n",
       "<table border=\"1\" class=\"dataframe\">\n",
       "  <thead>\n",
       "    <tr style=\"text-align: right;\">\n",
       "      <th></th>\n",
       "      <th>Launch Cost</th>\n",
       "      <th>LEO Capacity</th>\n",
       "      <th>GTO Capacity</th>\n",
       "    </tr>\n",
       "    <tr>\n",
       "      <th>Rocket</th>\n",
       "      <th></th>\n",
       "      <th></th>\n",
       "      <th></th>\n",
       "    </tr>\n",
       "  </thead>\n",
       "  <tbody>\n",
       "    <tr>\n",
       "      <th>Falcon 1</th>\n",
       "      <td>6.7 million</td>\n",
       "      <td>NaN</td>\n",
       "      <td>NaN</td>\n",
       "    </tr>\n",
       "    <tr>\n",
       "      <th>Falcon 9</th>\n",
       "      <td>50.0 million</td>\n",
       "      <td>22800.0 Kg</td>\n",
       "      <td>8300.0 Kg</td>\n",
       "    </tr>\n",
       "    <tr>\n",
       "      <th>Falcon Heavy</th>\n",
       "      <td>90.0 million</td>\n",
       "      <td>63800.0 Kg</td>\n",
       "      <td>26700.0 Kg</td>\n",
       "    </tr>\n",
       "    <tr>\n",
       "      <th>Starship</th>\n",
       "      <td>7.0 million</td>\n",
       "      <td>90718.0 Kg</td>\n",
       "      <td>90718.0 Kg</td>\n",
       "    </tr>\n",
       "  </tbody>\n",
       "</table>\n",
       "</div>"
      ],
      "text/plain": [
       "               Launch Cost LEO Capacity GTO Capacity\n",
       "Rocket                                              \n",
       "Falcon 1       6.7 million          NaN          NaN\n",
       "Falcon 9      50.0 million   22800.0 Kg    8300.0 Kg\n",
       "Falcon Heavy  90.0 million   63800.0 Kg   26700.0 Kg\n",
       "Starship       7.0 million   90718.0 Kg   90718.0 Kg"
      ]
     },
     "execution_count": 25,
     "metadata": {},
     "output_type": "execute_result"
    }
   ],
   "source": [
    "# Rocket Launch Cost\n",
    "\n",
    "Rockets = rockets.copy()\n",
    "\n",
    "Rockets.cost_per_launch = Rockets.cost_per_launch.div(10**6).astype('str') + ' million'\n",
    "Rockets.LEO_capacity_kg = Rockets.LEO_capacity_kg.dropna().astype('str') + ' Kg'\n",
    "Rockets.GTO_capacity_kg = Rockets.GTO_capacity_kg.dropna().astype('str') + ' Kg'\n",
    "\n",
    "Rockets.rename(columns = {'name': 'Rocket',\n",
    "                          'cost_per_launch' : 'Launch Cost',\n",
    "                          'LEO_capacity_kg' : 'LEO Capacity',\n",
    "                           'GTO_capacity_kg' : 'GTO Capacity'},\n",
    "                           inplace = True )\n",
    "\n",
    "Rockets.index = Rockets.Rocket\n",
    "\n",
    "\n",
    "Rockets[['Launch Cost','LEO Capacity','GTO Capacity']]"
   ]
  },
  {
   "cell_type": "markdown",
   "metadata": {},
   "source": [
    "From the above table - starship clearly stands out. It's cost is comparable to that of Falcon 1's and has the highest payload capacity of all the rockets. "
   ]
  },
  {
   "cell_type": "markdown",
   "metadata": {},
   "source": [
    "We'll be using these insights in the final section. Next we move onto analysing SpaceX's customer demographic and payload data."
   ]
  },
  {
   "cell_type": "markdown",
   "metadata": {},
   "source": [
    "\n"
   ]
  },
  {
   "cell_type": "markdown",
   "metadata": {},
   "source": [
    "### Customer Demographics & Payloads"
   ]
  },
  {
   "cell_type": "markdown",
   "metadata": {},
   "source": [
    "In this section, we'll look at the major clientele of SpaceX in terms of individual customers and customer classes.\n",
    "\n",
    "Firstly, we'll look at the top clients of SpaceX and lookout for any major customers. We hope to get a fair understanding of the distribution of SpaceX's clientele. After that, we'll study the average payload requirements of SpaceX's top customers both indivisually, and in terms of classes."
   ]
  },
  {
   "cell_type": "markdown",
   "metadata": {},
   "source": [
    "#### SpaceX - Major Clientele"
   ]
  },
  {
   "cell_type": "markdown",
   "metadata": {},
   "source": [
    "This section deals with extracting the top customers of SpaceX in terms of number of orders and lookout for any major clients. "
   ]
  },
  {
   "cell_type": "code",
   "execution_count": 26,
   "metadata": {
    "scrolled": true
   },
   "outputs": [
    {
     "data": {
      "text/plain": [
       "Text(0.5, 1.0, 'SpaceX - Major Clientele')"
      ]
     },
     "execution_count": 26,
     "metadata": {},
     "output_type": "execute_result"
    },
    {
     "data": {
      "image/png": "[encoded data removed]",
      "text/plain": [
       "<Figure size 1440x360 with 1 Axes>"
      ]
     },
     "metadata": {},
     "output_type": "display_data"
    }
   ],
   "source": [
    "# Style Setting\n",
    "\n",
    "sns.set(rc = {'figure.figsize': (20,5)}, style = 'white' )\n",
    "\n",
    "# Creating Manufacturer list\n",
    "\n",
    "Mft = []\n",
    "payloads.manufacturers.apply(clean_seq)\n",
    "\n",
    "for val in payloads.manufacturers.apply(clean_seq):\n",
    "    Mft.append(val[0])\n",
    " \n",
    "    \n",
    "MFT = pd.DataFrame(Mft, columns = ['Manufacturers']).replace('','Unknown')\n",
    "#MFT\n",
    "\n",
    "# Finding Total Number of Orders \n",
    "\n",
    "num_mfts =  len(MFT.where(MFT.Manufacturers != 'SpaceX').dropna())\n",
    "\n",
    "# SpaceX - Major Clientele\n",
    "\n",
    "c = sns.barplot( y = MFT.Manufacturers.value_counts().drop(['SpaceX','Unknown'])[:7].index, \n",
    "                 x = np.multiply(np.divide(MFT.Manufacturers.value_counts().drop(['SpaceX','Unknown'])[:7].values,num_mfts),100),\n",
    "                 palette = 'mako'\n",
    "                ) \n",
    "sns.despine()\n",
    "\n",
    "c.set_xlabel('Percentage of Orders (%)', fontdict = font)\n",
    "c.set_ylabel('Client',rotation = 0, loc = 'top', fontdict = font)\n",
    "\n",
    "c.set_title('SpaceX - Major Clientele', fontdict = {'size' : 15}, pad = 20)"
   ]
  },
  {
   "cell_type": "markdown",
   "metadata": {},
   "source": [
    "As we observe, Thales Alenia Space & SSL are customers with the most orders having 13% each of the total number of orders placed by SpaceX's clients. These include orders by the US and other foreign governments but not paylaods from SpaceX itself. The next major client is Boeing with 11% orders followed by Airbus Defence & Space, Lockheed Martin and Orbital ATK with 7%, 5%, and 5% of order respectively, with other clients indivisually contributing less than 5% of orders. \n",
    "\n",
    "From this, we can say that SpaceX customer base is fairly diversified. The top three clients which have a significantly higher percentage of orders deserve some further study in assesing them for their potential to provide long term business which we'll explore in a later section.\n",
    "\n",
    "\n",
    "Here, we have just worked with indivisual customers, but government contracts happen to be frequently reported as a major SpaceX customer, and thus it would be be a good idea to study the customer base in terms of customer class viz, Private, US governement, Foreign government. That should tell us the role of the government enterprises in the SpaceX business. \n",
    "\n",
    "The next section dwelves into customer diversity in terms of customer classes.\n",
    "\n"
   ]
  },
  {
   "cell_type": "markdown",
   "metadata": {},
   "source": [
    "#### Customer Diversity of SpaceX\n"
   ]
  },
  {
   "cell_type": "code",
   "execution_count": 27,
   "metadata": {
    "scrolled": false
   },
   "outputs": [
    {
     "data": {
      "text/plain": [
       "Text(0.5, 1.0, 'Customer Diversity of SpaceX')"
      ]
     },
     "execution_count": 27,
     "metadata": {},
     "output_type": "execute_result"
    },
    {
     "data": {
      "image/png": "[encoded data removed]",
      "text/plain": [
       "<Figure size 1440x360 with 1 Axes>"
      ]
     },
     "metadata": {},
     "output_type": "display_data"
    }
   ],
   "source": [
    "# Style Setting\n",
    "\n",
    "sns.set_style('white')\n",
    "\n",
    "# Diversity of SpaceX\n",
    "\n",
    "orders = np.sum(MFT.Manufacturers.dropna().apply(class1).value_counts().values)\n",
    "\n",
    "C = sns.barplot(x = np.multiply(np.divide(MFT.Manufacturers.dropna().apply(class1).value_counts().values,orders),100),\n",
    "                y = MFT.Manufacturers.dropna().apply(class1).value_counts().index,\n",
    "                palette = 'magma'\n",
    "                )\n",
    "sns.despine()\n",
    "\n",
    "C.set(xticks = np.arange(0,110,10))\n",
    "C.set_xticklabels(np.arange(0,110,10))\n",
    "\n",
    "C.set_ylabel('Client Type',fontdict = font)\n",
    "C.set_xlabel('Percentage of Orders (%)', fontdict = font)\n",
    "\n",
    "C.set_title('Customer Diversity of SpaceX', fontdict = font, pad = 20)"
   ]
  },
  {
   "cell_type": "markdown",
   "metadata": {},
   "source": [
    "We see that the US government constitutes just 5% of the satellite launches, with private companies constituting 60% followed by SpaceX at 35%. It should be noted here that the US governement category exclusively contains defence and research satellites, the space operations funded by NASA is manufactured by SpaceX and thus would appear in SpaceX's numbers. \n",
    "\n",
    "In general, it seems that private companies are the major clients in terms of income from satellite launches. NASA, and other government organisation do have a significant part in SpaceX's operating finances and, as hinted by the above graph, those contributions would probably come as long term contracts that enable SpaceX to carry out its operations. \n",
    "\n",
    "Before moving on the conclusions, let us also try and understand the general requirements of these customers in terms of mass, reference system and orbit. The approach would be exactly the same as this section wherein we'll first look at cusomters indivisually, and then as classes. "
   ]
  },
  {
   "cell_type": "markdown",
   "metadata": {},
   "source": [
    "\n",
    "#### Major Requirements\n"
   ]
  },
  {
   "cell_type": "markdown",
   "metadata": {},
   "source": [
    "Here, we'll look at client wise general satellite conifigurations in two ways.     "
   ]
  },
  {
   "cell_type": "markdown",
   "metadata": {},
   "source": [
    "\n",
    "**Indivisual Customers**"
   ]
  },
  {
   "cell_type": "code",
   "execution_count": 28,
   "metadata": {
    "scrolled": true
   },
   "outputs": [
    {
     "data": {
      "text/html": [
       "<div>\n",
       "<style scoped>\n",
       "    .dataframe tbody tr th:only-of-type {\n",
       "        vertical-align: middle;\n",
       "    }\n",
       "\n",
       "    .dataframe tbody tr th {\n",
       "        vertical-align: top;\n",
       "    }\n",
       "\n",
       "    .dataframe thead th {\n",
       "        text-align: right;\n",
       "    }\n",
       "</style>\n",
       "<table border=\"1\" class=\"dataframe\">\n",
       "  <thead>\n",
       "    <tr style=\"text-align: right;\">\n",
       "      <th></th>\n",
       "      <th>Average Mass</th>\n",
       "      <th>Main Reference Sytem</th>\n",
       "      <th>Main Orbit</th>\n",
       "      <th>Main Regime</th>\n",
       "    </tr>\n",
       "  </thead>\n",
       "  <tbody>\n",
       "    <tr>\n",
       "      <th>SSL</th>\n",
       "      <td>4708</td>\n",
       "      <td>geocentric</td>\n",
       "      <td>GTO</td>\n",
       "      <td>geostationary</td>\n",
       "    </tr>\n",
       "    <tr>\n",
       "      <th>Thales Alenia Space</th>\n",
       "      <td>7017.5</td>\n",
       "      <td>geocentric</td>\n",
       "      <td>PO</td>\n",
       "      <td>low-earth</td>\n",
       "    </tr>\n",
       "    <tr>\n",
       "      <th>Boeing</th>\n",
       "      <td>3216.6</td>\n",
       "      <td>geocentric</td>\n",
       "      <td>GTO</td>\n",
       "      <td>geostationary</td>\n",
       "    </tr>\n",
       "    <tr>\n",
       "      <th>Airbus Defence and Space</th>\n",
       "      <td>4298.14</td>\n",
       "      <td>geocentric</td>\n",
       "      <td>GTO</td>\n",
       "      <td>geostationary</td>\n",
       "    </tr>\n",
       "    <tr>\n",
       "      <th>Lockheed Martin</th>\n",
       "      <td>4183.2</td>\n",
       "      <td>geocentric</td>\n",
       "      <td>MEO</td>\n",
       "      <td>semi-synchronous</td>\n",
       "    </tr>\n",
       "  </tbody>\n",
       "</table>\n",
       "</div>"
      ],
      "text/plain": [
       "                         Average Mass Main Reference Sytem Main Orbit  \\\n",
       "SSL                              4708           geocentric        GTO   \n",
       "Thales Alenia Space            7017.5           geocentric         PO   \n",
       "Boeing                         3216.6           geocentric        GTO   \n",
       "Airbus Defence and Space      4298.14           geocentric        GTO   \n",
       "Lockheed Martin                4183.2           geocentric        MEO   \n",
       "\n",
       "                               Main Regime  \n",
       "SSL                          geostationary  \n",
       "Thales Alenia Space              low-earth  \n",
       "Boeing                       geostationary  \n",
       "Airbus Defence and Space     geostationary  \n",
       "Lockheed Martin           semi-synchronous  "
      ]
     },
     "execution_count": 28,
     "metadata": {},
     "output_type": "execute_result"
    }
   ],
   "source": [
    "# Indivisual Customers\n",
    "\n",
    "customer_requirement = pd.DataFrame({\n",
    "                                       'mass_kg' : None,\n",
    "                                       'reference_system' : None,\n",
    "                                       'orbit' : None,\n",
    "                                       'regime' : None \n",
    "                                                         }, \n",
    "                                        index = payloads.manufacturers.value_counts().drop(['SpaceX', ''])[:5].index )\n",
    "\n",
    "for client in customer_requirement.index:\n",
    "    for requirement in ['mass_kg','reference_system','orbit','regime']:\n",
    "        \n",
    "        if requirement == 'mass_kg':\n",
    "            \n",
    "            customer_requirement.loc[client,requirement] = payloads[requirement].where(payloads['manufacturers'] == client).dropna().mean()\n",
    "            \n",
    "        else:\n",
    "             customer_requirement.loc[client,requirement] = payloads[requirement].where(payloads['manufacturers'] == client).dropna().value_counts()[:1].index[0]\n",
    "\n",
    "\n",
    "customer_requirement.rename( columns = {\n",
    "                                         'mass_kg' : 'Average Mass',\n",
    "                                         'reference_system': 'Main Reference Sytem',\n",
    "                                         'orbit' : 'Main Orbit',\n",
    "                                         'regime' : 'Main Regime',},\n",
    "                                          inplace = True)\n",
    "\n",
    "customer_requirement"
   ]
  },
  {
   "cell_type": "markdown",
   "metadata": {},
   "source": [
    "The table above gives us a very good summary of the requirements of SpaceX's major clients. Among the top 5 clients, we observe geocentric as the main reference system, GTO as the main orbit, and geostationary as the main regime. \n",
    "\n",
    "It is to be noted that Thales Alenia Space has Polar Orbit as its most frequent orbit with a low_earth regime; it also has the highest mass viz. 7017.5 Kg amongst the top clients. Given that it covers 13% of the market share, it is worth looking into the type of satellites that this company sends up in order to better understand it as a customer.\n",
    "\n",
    "The next code cell looks at the satellites launched by Thales Alenia Space."
   ]
  },
  {
   "cell_type": "code",
   "execution_count": 29,
   "metadata": {
    "scrolled": false
   },
   "outputs": [
    {
     "data": {
      "text/html": [
       "<div>\n",
       "<style scoped>\n",
       "    .dataframe tbody tr th:only-of-type {\n",
       "        vertical-align: middle;\n",
       "    }\n",
       "\n",
       "    .dataframe tbody tr th {\n",
       "        vertical-align: top;\n",
       "    }\n",
       "\n",
       "    .dataframe thead th {\n",
       "        text-align: right;\n",
       "    }\n",
       "</style>\n",
       "<table border=\"1\" class=\"dataframe\">\n",
       "  <thead>\n",
       "    <tr style=\"text-align: right;\">\n",
       "      <th></th>\n",
       "      <th>Major Payloads of Thales Alenia Space</th>\n",
       "    </tr>\n",
       "  </thead>\n",
       "  <tbody>\n",
       "    <tr>\n",
       "      <th>0</th>\n",
       "      <td>TürkmenÄlem 52°E / MonacoSAT</td>\n",
       "    </tr>\n",
       "    <tr>\n",
       "      <th>1</th>\n",
       "      <td>Jason-3</td>\n",
       "    </tr>\n",
       "    <tr>\n",
       "      <th>2</th>\n",
       "      <td>Iridium NEXT 1</td>\n",
       "    </tr>\n",
       "    <tr>\n",
       "      <th>3</th>\n",
       "      <td>Iridium NEXT 2</td>\n",
       "    </tr>\n",
       "    <tr>\n",
       "      <th>4</th>\n",
       "      <td>Iridium NEXT 3</td>\n",
       "    </tr>\n",
       "    <tr>\n",
       "      <th>5</th>\n",
       "      <td>KoreaSat 5A</td>\n",
       "    </tr>\n",
       "    <tr>\n",
       "      <th>6</th>\n",
       "      <td>Iridium NEXT 4</td>\n",
       "    </tr>\n",
       "    <tr>\n",
       "      <th>7</th>\n",
       "      <td>Iridium NEXT 5</td>\n",
       "    </tr>\n",
       "    <tr>\n",
       "      <th>8</th>\n",
       "      <td>Bangabandhu-1</td>\n",
       "    </tr>\n",
       "    <tr>\n",
       "      <th>9</th>\n",
       "      <td>Iridium NEXT 6</td>\n",
       "    </tr>\n",
       "    <tr>\n",
       "      <th>10</th>\n",
       "      <td>Iridium NEXT 7</td>\n",
       "    </tr>\n",
       "    <tr>\n",
       "      <th>11</th>\n",
       "      <td>Iridium NEXT 8</td>\n",
       "    </tr>\n",
       "  </tbody>\n",
       "</table>\n",
       "</div>"
      ],
      "text/plain": [
       "   Major Payloads of Thales Alenia Space\n",
       "0           TürkmenÄlem 52°E / MonacoSAT\n",
       "1                                Jason-3\n",
       "2                         Iridium NEXT 1\n",
       "3                         Iridium NEXT 2\n",
       "4                         Iridium NEXT 3\n",
       "5                            KoreaSat 5A\n",
       "6                         Iridium NEXT 4\n",
       "7                         Iridium NEXT 5\n",
       "8                          Bangabandhu-1\n",
       "9                         Iridium NEXT 6\n",
       "10                        Iridium NEXT 7\n",
       "11                        Iridium NEXT 8"
      ]
     },
     "execution_count": 29,
     "metadata": {},
     "output_type": "execute_result"
    }
   ],
   "source": [
    "thales_sat  = pd.DataFrame( {\n",
    " 'Major Payloads of Thales Alenia Space' : payloads.name.where(payloads.manufacturers == 'Thales Alenia Space').dropna()\n",
    "                             })\n",
    "\n",
    "thales_sat.index  = range(len(thales_sat))\n",
    "thales_sat"
   ]
  },
  {
   "cell_type": "markdown",
   "metadata": {},
   "source": [
    "As seen above, Iridium Next happens to be the major satellite class of Thales Alenia Space. Iridium Next is a contellation of communication satellites built for the european space agency. Reference: https://earth.esa.int/web/eoportal/satellite-missions/i/iridium-next . This means that Thales Alenia Space is a strong candidate for a repeat customer.  \n",
    "\n",
    "Another major client is SSL. The next code cell lists out the satellites it sends to space. "
   ]
  },
  {
   "cell_type": "code",
   "execution_count": 30,
   "metadata": {
    "scrolled": false
   },
   "outputs": [
    {
     "data": {
      "text/html": [
       "<div>\n",
       "<style scoped>\n",
       "    .dataframe tbody tr th:only-of-type {\n",
       "        vertical-align: middle;\n",
       "    }\n",
       "\n",
       "    .dataframe tbody tr th {\n",
       "        vertical-align: top;\n",
       "    }\n",
       "\n",
       "    .dataframe thead th {\n",
       "        text-align: right;\n",
       "    }\n",
       "</style>\n",
       "<table border=\"1\" class=\"dataframe\">\n",
       "  <thead>\n",
       "    <tr style=\"text-align: right;\">\n",
       "      <th></th>\n",
       "      <th>Major Payloads of SSL</th>\n",
       "    </tr>\n",
       "  </thead>\n",
       "  <tbody>\n",
       "    <tr>\n",
       "      <th>0</th>\n",
       "      <td>AsiaSat 8</td>\n",
       "    </tr>\n",
       "    <tr>\n",
       "      <th>1</th>\n",
       "      <td>AsiaSat 6</td>\n",
       "    </tr>\n",
       "    <tr>\n",
       "      <th>2</th>\n",
       "      <td>JCSAT-2B</td>\n",
       "    </tr>\n",
       "    <tr>\n",
       "      <th>3</th>\n",
       "      <td>JCSAT-16</td>\n",
       "    </tr>\n",
       "    <tr>\n",
       "      <th>4</th>\n",
       "      <td>BulgariaSat-1</td>\n",
       "    </tr>\n",
       "    <tr>\n",
       "      <th>5</th>\n",
       "      <td>Hispasat 30W-6</td>\n",
       "    </tr>\n",
       "    <tr>\n",
       "      <th>6</th>\n",
       "      <td>Telstar 19V</td>\n",
       "    </tr>\n",
       "    <tr>\n",
       "      <th>7</th>\n",
       "      <td>Telkom-4</td>\n",
       "    </tr>\n",
       "    <tr>\n",
       "      <th>8</th>\n",
       "      <td>Telstar 18V</td>\n",
       "    </tr>\n",
       "    <tr>\n",
       "      <th>9</th>\n",
       "      <td>Nusantara Satu (PSN-6)</td>\n",
       "    </tr>\n",
       "    <tr>\n",
       "      <th>10</th>\n",
       "      <td>Beresheet</td>\n",
       "    </tr>\n",
       "    <tr>\n",
       "      <th>11</th>\n",
       "      <td>SXM-7</td>\n",
       "    </tr>\n",
       "  </tbody>\n",
       "</table>\n",
       "</div>"
      ],
      "text/plain": [
       "     Major Payloads of SSL\n",
       "0                AsiaSat 8\n",
       "1                AsiaSat 6\n",
       "2                 JCSAT-2B\n",
       "3                 JCSAT-16\n",
       "4            BulgariaSat-1\n",
       "5           Hispasat 30W-6\n",
       "6              Telstar 19V\n",
       "7                 Telkom-4\n",
       "8              Telstar 18V\n",
       "9   Nusantara Satu (PSN-6)\n",
       "10               Beresheet\n",
       "11                   SXM-7"
      ]
     },
     "execution_count": 30,
     "metadata": {},
     "output_type": "execute_result"
    }
   ],
   "source": [
    "SSL_sat = pd.DataFrame({\n",
    "         'Major Payloads of SSL' : payloads.name.where(payloads.manufacturers == 'SSL').dropna()\n",
    "                       })\n",
    "\n",
    "SSL_sat.index  = range(len(SSL_sat))\n",
    "SSL_sat"
   ]
  },
  {
   "cell_type": "markdown",
   "metadata": {},
   "source": [
    "As for SSL, it seems as if they have a wide range of satelites sent into orbit which makes it a less desirable prospect as a repeat customer.The others seem to have fairly similar payload requirements. Let us now dive into the requirements by customer classes."
   ]
  },
  {
   "cell_type": "markdown",
   "metadata": {},
   "source": [
    "\n",
    "\n"
   ]
  },
  {
   "cell_type": "markdown",
   "metadata": {},
   "source": [
    "**Customer Classes**"
   ]
  },
  {
   "cell_type": "code",
   "execution_count": 31,
   "metadata": {},
   "outputs": [
    {
     "data": {
      "text/html": [
       "<div>\n",
       "<style scoped>\n",
       "    .dataframe tbody tr th:only-of-type {\n",
       "        vertical-align: middle;\n",
       "    }\n",
       "\n",
       "    .dataframe tbody tr th {\n",
       "        vertical-align: top;\n",
       "    }\n",
       "\n",
       "    .dataframe thead th {\n",
       "        text-align: right;\n",
       "    }\n",
       "</style>\n",
       "<table border=\"1\" class=\"dataframe\">\n",
       "  <thead>\n",
       "    <tr style=\"text-align: right;\">\n",
       "      <th></th>\n",
       "      <th>Average Mass</th>\n",
       "      <th>Main Reference Sytem</th>\n",
       "      <th>Main Orbit</th>\n",
       "      <th>Main Regime</th>\n",
       "    </tr>\n",
       "  </thead>\n",
       "  <tbody>\n",
       "    <tr>\n",
       "      <th>Private Company</th>\n",
       "      <td>3640.04</td>\n",
       "      <td>geocentric</td>\n",
       "      <td>GTO</td>\n",
       "      <td>geostationary</td>\n",
       "    </tr>\n",
       "    <tr>\n",
       "      <th>SpaceX</th>\n",
       "      <td>6912.99</td>\n",
       "      <td>geocentric</td>\n",
       "      <td>ISS</td>\n",
       "      <td>low-earth</td>\n",
       "    </tr>\n",
       "    <tr>\n",
       "      <th>Foreign Government</th>\n",
       "      <td>2976.67</td>\n",
       "      <td>geocentric</td>\n",
       "      <td>SSO</td>\n",
       "      <td>sun-synchronous</td>\n",
       "    </tr>\n",
       "    <tr>\n",
       "      <th>US Government</th>\n",
       "      <td>260.5</td>\n",
       "      <td>geocentric</td>\n",
       "      <td>LEO</td>\n",
       "      <td>low-earth</td>\n",
       "    </tr>\n",
       "  </tbody>\n",
       "</table>\n",
       "</div>"
      ],
      "text/plain": [
       "                   Average Mass Main Reference Sytem Main Orbit  \\\n",
       "Private Company         3640.04           geocentric        GTO   \n",
       "SpaceX                  6912.99           geocentric        ISS   \n",
       "Foreign Government      2976.67           geocentric        SSO   \n",
       "US Government             260.5           geocentric        LEO   \n",
       "\n",
       "                        Main Regime  \n",
       "Private Company       geostationary  \n",
       "SpaceX                    low-earth  \n",
       "Foreign Government  sun-synchronous  \n",
       "US Government             low-earth  "
      ]
     },
     "execution_count": 31,
     "metadata": {},
     "output_type": "execute_result"
    }
   ],
   "source": [
    "# Customer Classes \n",
    "\n",
    "class_requirement = pd.DataFrame({\n",
    "                                       'mass_kg' : None,\n",
    "                                       'reference_system' : None,\n",
    "                                       'orbit' : None,\n",
    "                                       'regime' : None \n",
    "                                                         }, \n",
    "                                        index = payloads.customer_class.unique() )\n",
    "\n",
    "for client_class in class_requirement.index:\n",
    "    for requirement in ['mass_kg','reference_system','orbit','regime']:\n",
    "        \n",
    "        if requirement == 'mass_kg':\n",
    "            \n",
    "            class_requirement.loc[client_class,requirement] = payloads[requirement].where(payloads['customer_class'] == client_class).dropna().mean()\n",
    "            \n",
    "        else:\n",
    "             class_requirement.loc[client_class,requirement] = payloads[requirement].where(payloads['customer_class'] == client_class).dropna().value_counts()[:1].index[0]\n",
    "                \n",
    "class_requirement.rename( columns = {\n",
    "                                         'mass_kg' : 'Average Mass',\n",
    "                                         'reference_system': 'Main Reference Sytem',\n",
    "                                         'orbit' : 'Main Orbit',\n",
    "                                         'regime' : 'Main Regime',},\n",
    "                                          inplace = True)\n",
    "\n",
    "class_requirement.drop('Unknown',axis = 0)                "
   ]
  },
  {
   "cell_type": "markdown",
   "metadata": {},
   "source": [
    "Here we observe that each customer class has a different main orbit and regime requirement. By 'main' we refer to the most frequently occuring values in that particular category.\n",
    "\n",
    "Private companies have the GTO as their main orbit, while SpaceX has the ISS as its main orbit - this could be mainly because of the Dragon programme as part of its work as crew resupply vehicle to the ISS. \n",
    "\n",
    "Since, foreign governments constitute just 2% of the orders, we can safely overlook them for now. \n",
    "\n",
    "The US government on average sends the lightest payloads to orbit. LEO with the low-earth regime with a mass of 260 kg is their main requirement\n",
    "\n",
    "In this upcoming section, we'll be digging deeper into the satellites carried up by SpaceX  and begin to answer the questions we posed to ourselves in the begining of the exploration stage."
   ]
  },
  {
   "cell_type": "markdown",
   "metadata": {},
   "source": [
    "\n",
    "\n"
   ]
  },
  {
   "cell_type": "markdown",
   "metadata": {},
   "source": [
    "##  Final Insights"
   ]
  },
  {
   "cell_type": "markdown",
   "metadata": {},
   "source": [
    "\n"
   ]
  },
  {
   "cell_type": "markdown",
   "metadata": {},
   "source": [
    "In this section, we return to the questions we posed ourselves during the exploration stage and answer them with additional insights wherever possible. Using our findings as a base, we'll refer to related blog posts, articles and solidify our understanding of that section.     \n",
    "\n",
    "In order to maintian readability, we'll be answering these questions in order."
   ]
  },
  {
   "cell_type": "markdown",
   "metadata": {},
   "source": [
    "In what year did SpaceX amp up its operations?\n",
    "How are launches spaced out in a year? Is there a season with most most launches? If yes, explore.\n",
    "Which rockets have the potential to be SpaceX's workhorse in the coming future?\n",
    "Can SpaceX optimize it's payload capacity and cost per launch? if yes, how?\n",
    "What are the general payload requirements of SpaceX's major customers ( including itself) in terms of mass, reference system and orbit?\n",
    "Repeat customers vs Diversification : What would be better in the long run?"
   ]
  },
  {
   "cell_type": "markdown",
   "metadata": {},
   "source": [
    "#### In what year did SpaceX amp up its operations?"
   ]
  },
  {
   "cell_type": "markdown",
   "metadata": {},
   "source": [
    "Basis our analysis, it is evident that SpaceX amped up its operations in the year 2017 wherein it had doubled its launch operations to 18 launches in that year. Let's explore the possible reasons behind this.\n",
    "\n",
    "After referring to the following article by the Atlantic: https://www.theatlantic.com/science/archive/2017/12/spacex-launch-falcon-heavy. We note the following:\n",
    "\n",
    "SpaceX was responsible for carrying commercial satellites,supplies to the international space station and some secret government missions. It was a year with one succesfull launch after another and zero mishaps. \n",
    "\n",
    "In the month of March, SpaceX reused a falcon 9 first stage in one of its launches of the commercial satellites. And in November, NASA permitted them to reuse rockets parts in their resupply missions. \n",
    "\n",
    "In my opinion, the reusing of Falcon 9's first stage enabled SpaceX to reduce the time take taken between launches as refurburshing a used part would take considerably less than time than building a new one. This coupled with the streak of succesfull launches meant thet SpaceX was able to double its launches in 2017. \n"
   ]
  },
  {
   "cell_type": "markdown",
   "metadata": {},
   "source": [
    "#### How are launches spaced out in a year? Is there a season with most most launches? If yes, explore."
   ]
  },
  {
   "cell_type": "markdown",
   "metadata": {},
   "source": [
    "Since 2017, the launches have shown to follow an oscillating pattern, with the second quarter having the most number of launches in aggreagate. The second quarter corresponds to the summer season.\n",
    "\n",
    "The following document by NASA enlists the 14 weather criteria that determines the fate of a planned launch. This was specifically designed for the crew dragon launch but would give us a general idea of the weather monitoring that goes behind a  succesfull launch. The document: https://www.nasa.gov/sites/default/files/atoms/files/falcon9_crewdragon_launch_weather_criteria_fact_sheet.pdf\n",
    "\n",
    "Basis the article, it seems that the ideal condition for a rocket launch involve a breezy, consistent wind conditions with no wind shear. Thunderstorms and cloudy weather seem to be the main causes for scrubbing  a launch.\n",
    "\n",
    "The months in the second quarter lay in the spring season and the onset of summer, the whole period is categorized by pleasant weather conditions with moderate winds and clear skies and while rain is common during this period, the general conditions would probably make this quarter most suitable for rocket launches."
   ]
  },
  {
   "cell_type": "markdown",
   "metadata": {},
   "source": [
    "#### Which rockets have the potential to be SpaceX's workhorse in the coming future?"
   ]
  },
  {
   "cell_type": "markdown",
   "metadata": {},
   "source": [
    "In our analysis, it was pretty clear that SpaceX managed to improve the cost efficiency of its rockets with newer models.\n",
    "Starship is clearly standouts in terms of payload capacity, building cost, cost efficiency, and engine performance. \n",
    "\n",
    "Falcon heavy - also has shown significant imporvement as compared to Falcon 9 relying solely on good design. \n",
    "\n",
    "Let's now dwelve deeper into the rockets and try and understand their design. We'll be refrerring to the following: https://www.spacex.com/vehicles\n",
    "\n",
    "After reading through the information for each of the vehicles, we find starship is built out of completely different materials and has a different engine altogether. And the core concept behind Falcon heavy is attaching two Falcon 9 boosters to the main body giving it the power of 27 Merlin engines with neglible increase in mass thus significantly improving its payload capacity as well as launch cost efficiency. \n",
    "\n",
    "Starship uses a version of stainless steel which is known for its low cost as compared to the carbon fibre used in Falcons, apart from this, it has better heat bearing capacity than carbon fibre which is essential in good reusability performace. \n",
    "The raptor is a more powerful engine, as compared to the merlin, and while it costs more than Merlin, it makes up for it with high cost efficiency. The major improvements in cost efficiency, and payload fraction are due to these changes. It is to be noted that Starship is the first of its class with plans to develop more powerful versions of the same. \n",
    "\n",
    "Coming to the question of a future workhorse, starship seems to be ideal candidate for the same, and was also designed to be so. However, given the significant imporvements in the cost efficiency metric, and the payload fraction due the raptor engine and the stainless steal, there is room for a lighter version of Starship which may have lower payload capacity and cost effectiveness but would cost much less to launch and relaunch. This lighter version of the Starship could be useful as a workhorse for delivering payloads to low earth orbit"
   ]
  },
  {
   "cell_type": "markdown",
   "metadata": {},
   "source": [
    "####  What are the general payload requirements of SpaceX's major customers ( including itself) in terms of mass, reference system and orbit?"
   ]
  },
  {
   "cell_type": "markdown",
   "metadata": {},
   "source": [
    "The general requirements of SpaceX's major customers were discussed at length in the analysis section, and would be sufficient answer to this question. "
   ]
  },
  {
   "cell_type": "markdown",
   "metadata": {},
   "source": [
    "#### Repeat customers vs Diversification : What would be better in the long run?"
   ]
  },
  {
   "cell_type": "markdown",
   "metadata": {},
   "source": [
    "SpaceX currently relies heavily on NASA contacts with the crew resupply missions and would continue to do so for quite some time. From analysing SpaceX's customer base for satellites, we found that Thales Alenia Space could be a good canididate for repeat business as it would be setting the Iridium next contellation. \n",
    "\n",
    "SpaceX is already working on setting up the Starlink constellation which, once active, will be a solid source of revenue. \n",
    "Up until then, SpaceX could explore building strong relations with companies like Thales and SSL, and other companies that deal in research and communication satellites with a view to build more business from them and reduce its reliance on the government.  These companies can continue to be a source of revenue after the Starlink has been deployed, and also might be able to help SpaceX in providing relevant data for its more ambitious projects. \n",
    "\n",
    "Thus, repeat customers would be better for SpaceX's business in the long run."
   ]
  }
 ],
 "metadata": {
  "kernelspec": {
   "display_name": "Python 3",
   "language": "python",
   "name": "python3"
  },
  "language_info": {
   "codemirror_mode": {
    "name": "ipython",
    "version": 3
   },
   "file_extension": ".py",
   "mimetype": "text/x-python",
   "name": "python",
   "nbconvert_exporter": "python",
   "pygments_lexer": "ipython3",
   "version": "3.8.5"
  }
 },
 "nbformat": 4,
 "nbformat_minor": 4
}
